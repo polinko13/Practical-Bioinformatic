{
 "cells": [
  {
   "cell_type": "markdown",
   "metadata": {},
   "source": [
    "# СРАВНИТЕЛЬНАЯ ГЕНОМИКА \n",
    "---"
   ]
  },
  {
   "cell_type": "markdown",
   "metadata": {},
   "source": [
    "# ПРАКТИКА 1. UltraConserved Elements (aka UCE)"
   ]
  },
  {
   "cell_type": "markdown",
   "metadata": {},
   "source": [
    "1. [Ультраконсервативные элементы, их использование в филогеномике](#1.-Ультраконсервативные-элементы,-их-использование-в-филогеномике)\n",
    "2. [Поиск UCE](#2.-Поиск-UCE)\n",
    "3. [Пробоподготовка и секвенирование UCE](#3.-Пробоподготовка-и-секвенирование-UCE)\n",
    "4. [Обработка сырых ридов](#4.-Обработка-сырых-ридов)   \n",
    "  4.1. [Проверка качества сырых ридов](#4.1.-Проверка-качества-сырых-ридов)   \n",
    "  [**ЗАДАНИЕ 1.1**](#Задание-№-1.1)   \n",
    "  4.2. [Удаление адаптеров](#4.2.-Удаление-адаптеров)    \n",
    "  [**ЗАДАНИЕ 1.2**](#Задание-№-1.2)  \n",
    "  4.3. [Удаление ридов с низким качеством](#4.3.-Удаление-ридов-с-низким-качеством)  \n",
    "  [**ЗАДАНИЕ 1.3**](#Задание-№-1.3)  \n",
    "5. [Сборка ридов *de novo*](#5.-Сборка-ридов-de-novo)    \n",
    "  [**ЗАДАНИЕ 1.4**](#Задание-№-1.4)  \n",
    "6. [Использование программы *Phyluce* для обработки данных](#6.-Использование-программы-Phyluce-для-обработки-данных)   \n",
    "  6.1. [Сортировка полученных контигов по наличию в них вставки специфичной к UCE зондам](#6.1.-Сортировка-полученных-контигов-по-наличию-в-них-вставки-специфичной-к-UCE-зондам)  \n",
    "  6.2. [Создание списка всех UCE локусов, характерных для имеющихся особей](#6.2.-Создание-списка-всех-UCE-локусов,-характерных-для-имеющихся-особей)   \n",
    "  [**ЗАДАНИЕ 1.5**](#Задание-№-1.5)  \n",
    "  6.3. [Получение списка UCE локусов, характерного для каждого таксона](#6.3.-Получение-списка-UCE-локусов,-характерного-для-каждого-таксона)  \n",
    "  [**ЗАДАНИЕ 1.6**](#Задание-№-1.6)  \n",
    "  6.4. [Объединение таксонов, содержащих те или иные UCE локусы](#6.4.-Объединение-таксонов,-содержащих-те-или-иные-UCE-локусы)   \n",
    "  6.5. [Выравнивание с помощью Mafft, подрезание концевых участков для получения сходных по длине последовательностей для каждой особи](#6.5.-Выравнивание-с-помощью-Mafft,-подрезание-концевых-участков--для-получения-сходных-по-длине-последовательностей-для-каждой-особи)   \n",
    "  6.6. [Обрезка внутренних участков, содержащих множественные инделы (выпадения или вставки нуклеотидов)](#6.6.-Обрезка-внутренних-участков,-содержащих-множественные-инделы-(выпадения-или-вставки-нуклеотидов))   \n",
    "  6.7. [Дополнительная очистка с помощью программы Gblocks, интегрированной в *Phyluce*](#6.7.-Дополнительная-очистка-с-помощью-программы-Gblocks,-интегрированной-в-PHYLUCE)   \n",
    "  [**ЗАДАНИЕ 1.7**](#Задание-№-1.7)    \n",
    "  6.8. [Корректировка названия для удобной конкатенации сборок](#6.8.-Корректировка-названия-для-удобной-конкатенации-сборок)   \n",
    "  6.9. [Фильтрация UCE локусов по их представленности в выборке](#6.9.-Фильтрация-UCE-локусов-по-их-представленности-в-выборке)   \n",
    "  6.10. [Построение финальной матрицы для построения дерева в программе MrBayes](#6.10.-Построение-финальной-матрицы-для-построения-дерева-в-программе-MrBayes)   \n",
    "  [**ЗАДАНИЕ 1.8**](#Задание-№-1.8)  \n",
    "7. [Реконструкция филогенетических связей в программе MrBayes](#7.-Реконструкция-филогенетических-связей-в-программе-MrBayes)\n",
    "8. [Отрисовка дерева в программе Figtree](#8.-Отрисовка-дерева-в-программе-Figtree)   \n",
    "  [**ЗАДАНИЕ 1.9**](#Задание-№-1.9)  "
   ]
  },
  {
   "cell_type": "markdown",
   "metadata": {},
   "source": [
    "***"
   ]
  },
  {
   "cell_type": "markdown",
   "metadata": {},
   "source": [
    "## 1. Ультраконсервативные элементы, их использование в филогеномике"
   ]
  },
  {
   "cell_type": "markdown",
   "metadata": {},
   "source": [
    "<img src=\"Images/ultraconserved-header.png\" width =\"700\" height=\"700\" style=\"float:left\"/>"
   ]
  },
  {
   "cell_type": "markdown",
   "metadata": {},
   "source": [
    "Ультраконсервативные элементы (UltraConserved Elements, UCE) представляют собой выскоконсервативные области геномов не родственных организмов. Получение большого числа полгогеномных сборок и проведение их сравнительного анализа позволило выявить множество сходных, высококонсервативных участков между не родственными организмами. Эти участки оказались более консервативными, чем белок-кодирующие последовательности ортологичных генов, даже в первой и второй позициях кодонов. Исследования показали, что UCE элементы выполняют регуляторную функцию генов и выступают в качестве факторов развития организмов. В тоже время, выключение UCE элементов не приводит к гибели мышей, но делает их подомство стерильным, что показывает неоднозначность природы UCE элементов. "
   ]
  },
  {
   "cell_type": "markdown",
   "metadata": {},
   "source": [
    "<img src=\"Images/UCE_frequency.png\" width =\"600\" height=\"600\" style=\"float:left\"/>"
   ]
  },
  {
   "cell_type": "markdown",
   "metadata": {},
   "source": [
    "Филогеномика позволяет разрешить дерево жизни, однако увеличение полученных геномов приводит к получению противоречивых эволюционных сценариев. Основным фактором, приводящим к противоречивым сценариям, является случайная, независимая сортировка генов в истории различных групп организмов, особенно если такая сортировка происходила в условиях быстрой диверсификации. Это вынуждает выполнять поиск аналитических стратегий для установления однозначной и единственной истории живых организмов. В качестве примера разрешения филогеномных разногласий успешно применяется новый класс генетических маркеров - ультраконсервативные элементы и фланкирующая ДНК. \n",
    "\n",
    "UCE элементы имеют несколько важных особенностей:\n",
    "1. Высокое число дискретных UCE элементов являются общими для эволюционно далеких групп, что решает проблему поиска надежных и повторяемых локусов для решения сложных филогенетических задач\n",
    "2. Ультраконсервативные элементы имеют низкое насыщение нуклеотидными мутациями, что исключает гомоплазии при сравнении давно дивергировавших групп организмов\n",
    "3. Очищающий отбор на UCE элементах снижает частоту неполной сортировки линий во время быстрых этапов видообразования за счет уменьшения эффективного размера популяций\n",
    "4. UCE элементы находятся в свободных от транспозонов участках геномов. \n",
    "5. Сходные UCE в геномах неродственных групп организмов чаще оказываются ортологами\n",
    "<br>\n",
    "\n",
    "Эти особенности делают пригодными UCE элементы для получения истинного филогенетического сигнала, в особенности для трудноразрешимых эволюционных вопросов и древних филогенетических линий.</br>\n"
   ]
  },
  {
   "cell_type": "markdown",
   "metadata": {},
   "source": [
    "***"
   ]
  },
  {
   "cell_type": "markdown",
   "metadata": {},
   "source": [
    "## 2. Поиск UCE "
   ]
  },
  {
   "cell_type": "markdown",
   "metadata": {},
   "source": [
    "Для поиска ультраконсервативных элементов используется скрининг полных геномных выравниваний не родственных организмов, например, млекопитающих, птиц и рептилий. Поиск происходит в несколько этапов. \n",
    "- На первом этапе сравнивается два генома, в которых выполняется поиск не менее 60 оснований, имеющих 100% сходство между собой. \n",
    "- Затем, эти участки выявляются в остальных геномах. \n",
    "- На последнем этапе удаляются дубликаты, встречающиеся в геноме более одного раза. Для высоких таксономических единиц, таких как млекопитающие, птицы или рептилии, может быть найдено несколько тысяч ультраконсервативных элементов."
   ]
  },
  {
   "cell_type": "markdown",
   "metadata": {},
   "source": [
    "***"
   ]
  },
  {
   "cell_type": "markdown",
   "metadata": {},
   "source": [
    "## 3. Пробоподготовка и секвенирование UCE"
   ]
  },
  {
   "cell_type": "markdown",
   "metadata": {},
   "source": [
    "После получения списка ультраконсервативных элементов необходимо сделать зонды, специфичные к различным участкам UCE элемента. Каждый зонд соединяется с биотиновой меткой. При реакции гибридизации зонды прикрепляются к участкам фрагментированной ДНК, после чего с помощью магнитных шариков, покрытых стрептавидиновой оболочкой, гибридизованные участки ДНК отделяются от оставшейся тотальной ДНК.  "
   ]
  },
  {
   "cell_type": "markdown",
   "metadata": {},
   "source": [
    "Готовые наборы для UCE гибридизации, подготовленные для различных групп организмов размещены на сайте компании **Arbour Biosciences** https://arborbiosci.com/genomics/targeted-sequencing/mybaits/mybaits-expert/mybaits-expert-uce/ "
   ]
  },
  {
   "cell_type": "markdown",
   "metadata": {},
   "source": [
    "Для секвенирования необхдимо выполнить ряд процедур:\n",
    "\n",
    "<img src=\"Images/Fragment.jpg\" width =\"1000\" height=\"1000\" style=\"float:left\"/>\n"
   ]
  },
  {
   "cell_type": "markdown",
   "metadata": {},
   "source": [
    "<br>Итоговая целевая концентрация должна составлять 500 - 1000 нанограмм.</br>\n",
    "<br>После получения библиотеки необходимо выполнить реакцию гибридизации.</br>\n"
   ]
  },
  {
   "cell_type": "markdown",
   "metadata": {},
   "source": [
    "<img src=\"Images/myBaits.png\" width =\"800\" height=\"1500\" style=\"float:left\"/>"
   ]
  },
  {
   "cell_type": "markdown",
   "metadata": {},
   "source": [
    "Готовую библиотеку необходимо секвенировать с помощью платформы Helicos, Pacific Biosciences, Ion Torrent, Illumina или др. в соответствии с прилагаемыми протоколами и методами для пробоподготовки и запуска генетического анализатора."
   ]
  },
  {
   "cell_type": "markdown",
   "metadata": {},
   "source": [
    "<img src=\"Images/NGS.jpg\" width =\"700\" height=\"700\" style=\"float:left\"/>"
   ]
  },
  {
   "cell_type": "markdown",
   "metadata": {},
   "source": [
    "___"
   ]
  },
  {
   "cell_type": "markdown",
   "metadata": {},
   "source": [
    "## 4. Обработка сырых ридов"
   ]
  },
  {
   "cell_type": "markdown",
   "metadata": {},
   "source": [
    "### 4.1. Проверка качества сырых ридов"
   ]
  },
  {
   "cell_type": "markdown",
   "metadata": {},
   "source": [
    "После получения сырых ридов необходимо оценить их качество. \n",
    "Для этого, мы предлагаем использовать программу fastqc v.0.11.9\n",
    "Для ее установки выполните в терминале (Ctrl+Alt+T) несколько команд:\n",
    "\n",
    "**sudo apt update**</br>\n",
    "<br>**sudo apt install fastqc**</br>\n",
    "\n",
    "Для примера использвания программы fastqc в директории с настоящей практикой содержится файл <br>**Thymallus_thymallus_Volga.fastq**. В нем содержатся риды, обогащенные UCE данными, полученные для европейского хариуса (Лососеобразные, род хариусы) с использованием секвенатора Ion S5 (технология секвенирования Ion Torrent).</br>\n",
    "Для запуска программы введите:\n",
    "\n",
    "**fastqc Thymallus_thymallus_Volga.fastq**</br>\n",
    "\n",
    "Откройте получившийся файл с помощью браузера \n",
    "<br>**Thymallus_thymallus_Volga.fastq_fastqc.html**</br>"
   ]
  },
  {
   "cell_type": "markdown",
   "metadata": {},
   "source": [
    "### Задание № 1.1"
   ]
  },
  {
   "cell_type": "markdown",
   "metadata": {},
   "source": [
    "  - Укажите, какое количество ридов содержится в файле\n",
    "  - Какое распределение длин ридов в файле?\n",
    "  - Какой уровень качества (Phred) чаще встречается в ридах?\n",
    "  - Объясните, почему необхдимо удалить адаптеры из ридов?"
   ]
  },
  {
   "cell_type": "markdown",
   "metadata": {},
   "source": [
    "### Ответы :"
   ]
  },
  {
   "cell_type": "raw",
   "metadata": {},
   "source": [
    "1)987412\n",
    "2)Распределение колоколообразное, похожее на нормальное\n",
    "3)25\n",
    "4)Адаптеры  - это искусственные вспомогательные последовательности, которых нет в ДНК, а значит они будут мешать выравниванию"
   ]
  },
  {
   "cell_type": "markdown",
   "metadata": {},
   "source": [
    "<br>Внешний вид хариуса:</br>\n",
    "\n",
    "<img src=\"Images/Thymallus.jpg\" width =\"1000\" height=\"1000\" style=\"float:left\"/>"
   ]
  },
  {
   "cell_type": "markdown",
   "metadata": {},
   "source": [
    "Ниже приведено изображение всех хромосом европейского хариуса с взаимным расположением UCE элементов. Учитывая полиплоидность хариусовых рыб, многие UCE элементы были дуплицированы. Синим цветом указаны уникальные элементы в пределах генома, красным - дуплицированные элементы в пределах одной хромосомы, фиолетовым - дуплицированные элементы, расположенные в разных хромосомах."
   ]
  },
  {
   "cell_type": "markdown",
   "metadata": {},
   "source": [
    "<img src=\"Images/Хромосомы хариусы.jpg\" width =\"1000\" height=\"1000\"/>"
   ]
  },
  {
   "cell_type": "markdown",
   "metadata": {},
   "source": [
    "___"
   ]
  },
  {
   "cell_type": "markdown",
   "metadata": {},
   "source": [
    "### 4.2. Удаление адаптеров"
   ]
  },
  {
   "cell_type": "markdown",
   "metadata": {},
   "source": [
    "Для удаления адаптеров мы предлагаем использовать программу cutadapt 2.8. Для ее установки введите в терминале команды:\n",
    "\n",
    "**sudo apt update**</br>\n",
    "<br>**sudo apt install cutadapt**</br>"
   ]
  },
  {
   "cell_type": "markdown",
   "metadata": {},
   "source": [
    "Для секвенирования на платформе Ion S5 нами был использованы A адаптер, баркод адаптер и P1 адаптер.\n",
    "Баркод-адаптер присоединен к А адаптеру. При этом А адаптер прикрепляется с 3' конца молекулы ДНК, а Р1 адаптер прикрепляется с 5' конца молекулы ДНК.\n",
    "Последовательности адаптеров имеют вид:\n",
    "\n",
    "**А адаптер: CCATCTCATCCCTGCGTGTCTCCGACTCAG**</br>\n",
    "<br>**Баркод-адаптер: TGAGCGGAAC**</br>\n",
    "<br>**Р1 адаптер: CCTCTCTATGGGCAGTCGGTGAT**</br>"
   ]
  },
  {
   "cell_type": "markdown",
   "metadata": {},
   "source": [
    "Для запуска программы cutadapt, выполните соледующие действия:  \n",
    "  - Объедините А и баркод адаптеры в одну последовательность\n",
    "  - Найдите комплиментарные последовательности для A адаптера с учетом баркод-адаптера и Р1 адаптера\n",
    "  - Подготовте текстовые fasta файлы для удаления адаптеров с 3' и 5' концов. Fasta файл должен иметь вид:\n",
    "\n",
    "**>A_adapter_with_barcode_adapter\n",
    "<br>sequence1</br>\n",
    "<br>>A_adapter__with_barcode_adapter_reverse</br>\n",
    "<br>sequence2**</br>\n",
    "\n",
    "Запустите программу cutadapt командой:\n",
    "  \n",
    "cutadapt -a file:**Название файла с A адаптером** -g file:**Название файла с P1 адаптером** -o **Название файла для вывода.fastq** Thymallus_thymallus_Volga.fastq\n",
    "       "
   ]
  },
  {
   "cell_type": "code",
   "execution_count": 4,
   "metadata": {},
   "outputs": [
    {
     "name": "stdout",
     "output_type": "stream",
     "text": [
      "CAAGGCGAGTGACTCAGCCTCTGTGCGTCCCTACTCTACC\n"
     ]
    }
   ],
   "source": [
    "str = 'CCATCTCATCCCTGCGTGTCTCCGACTCAGTGAGCGGAAC'[::-1]\n",
    "print(str)"
   ]
  },
  {
   "cell_type": "code",
   "execution_count": 8,
   "metadata": {},
   "outputs": [
    {
     "name": "stdout",
     "output_type": "stream",
     "text": [
      "GTTCCGCTCACTGAGTCGGAGACACGCAGGGATGAGATGG\n"
     ]
    }
   ],
   "source": [
    "def compl(str):\n",
    "    str1 = ''\n",
    "    for i in range(len(str)):\n",
    "        if str[i] == 'A':\n",
    "            str1+='T'\n",
    "        elif str[i] == 'T':\n",
    "            str1+='A'\n",
    "        elif str[i] == 'G':\n",
    "            str1+='C'\n",
    "        elif str[i] == 'C':\n",
    "            str1+='G'\n",
    "    return str1\n",
    "str = compl(str)\n",
    "print(str)"
   ]
  },
  {
   "cell_type": "code",
   "execution_count": 9,
   "metadata": {},
   "outputs": [
    {
     "name": "stdout",
     "output_type": "stream",
     "text": [
      "GGAGAGATACCCGTCAGCCACTA\n"
     ]
    }
   ],
   "source": [
    "p1_rev = 'CCTCTCTATGGGCAGTCGGTGAT'[::1]\n",
    "print(compl(p1_rev))\n"
   ]
  },
  {
   "cell_type": "markdown",
   "metadata": {},
   "source": [
    "### Задание № 1.2"
   ]
  },
  {
   "cell_type": "markdown",
   "metadata": {},
   "source": [
    "  - Какое количество ридов сдержало адаптеры и какой это процент от их общего числа? \n",
    "  - Какое количество ридов программа сохранила в ходе работы?\n",
    "  - Какое итоговое количество нукледтидов осталост в скорректированном файде?"
   ]
  },
  {
   "cell_type": "markdown",
   "metadata": {},
   "source": [
    "### Ответы :"
   ]
  },
  {
   "cell_type": "raw",
   "metadata": {},
   "source": [
    "1)Количество ридов, содержащих адаптеры: 85. Это 8.6% от общего числа\n",
    "2)987 (100%)\n",
    "3)160856104 bp (99.8%)"
   ]
  },
  {
   "cell_type": "markdown",
   "metadata": {},
   "source": [
    "***"
   ]
  },
  {
   "cell_type": "markdown",
   "metadata": {},
   "source": [
    "### 4.3. Удаление ридов с низким качеством"
   ]
  },
  {
   "cell_type": "markdown",
   "metadata": {},
   "source": [
    "Для удаления ридов с низким качеством мы предлагаем использовать программу **Trimmomatic 0.39**\n",
    "<br>Для ее установки, используйте следующие команды: \n",
    "\n",
    "**wget http://www.usadellab.org/cms/uploads/supplementary/Trimmomatic/Trimmomatic-0.39.zip**</br>\n",
    "<br>**unzip Trimmomatic-0.39.zip**</br>"
   ]
  },
  {
   "cell_type": "markdown",
   "metadata": {},
   "source": [
    "Воспользуемся двумя командами программы **Trimmomatic 0.39**:\n",
    "<br>**AVGQUAL**: удаляет риды, в которых среднее значение всех Phred ниже установленного порога</br>\n",
    "<br>**SLIDINGWINDOW**: удаляет часть рида, используя окно установленной длины, в котором среднее значение всех Phred ниже установленного порога</br>"
   ]
  },
  {
   "cell_type": "markdown",
   "metadata": {},
   "source": [
    "Установим среднее значение Phred, подлежащее удалению - 16. Размер окна - 4 нуклеотида. "
   ]
  },
  {
   "cell_type": "markdown",
   "metadata": {},
   "source": [
    "Запустите программу с использованием команды:\n",
    "\n",
    "java -jar Trimmomatic-0.39/trimmomatic-0.39.jar SE **Название файла после программы cutadapt** **Название файла для вывода** AVGQUAL:16 SLIDINGWINDOW:4:16</br>"
   ]
  },
  {
   "cell_type": "markdown",
   "metadata": {},
   "source": [
    "### Задание № 1.3"
   ]
  },
  {
   "cell_type": "markdown",
   "metadata": {},
   "source": [
    "  - Какое количество ридов было удалено после программы Trimmomatic и какой это процент от их общего числа? "
   ]
  },
  {
   "cell_type": "markdown",
   "metadata": {},
   "source": [
    "### Ответ :"
   ]
  },
  {
   "cell_type": "raw",
   "metadata": {},
   "source": [
    "Было удалено 89621 (9,08%)"
   ]
  },
  {
   "cell_type": "markdown",
   "metadata": {},
   "source": [
    "___"
   ]
  },
  {
   "cell_type": "markdown",
   "metadata": {},
   "source": [
    "## 5. Сборка ридов *de novo*"
   ]
  },
  {
   "cell_type": "markdown",
   "metadata": {},
   "source": [
    "Для сборки скорректированных ридов de novo воспользуемся программой Trinity RNA SEQ v. 2.12.0.\n",
    "<br>Для ее установки, используйте следующие команды:\n",
    "\n",
    "**sudo apt update\n",
    "<br>sudo apt install trinityrnaseq**</br>"
   ]
  },
  {
   "cell_type": "markdown",
   "metadata": {},
   "source": [
    "Запустите программу с использованием следующей команды:\n",
    "\n",
    "Trinity --seqType fq --CPU 10 --max_memory 10G --single **Название файла после Trimmomatic** --output **Название файла для вывода_Trinity**"
   ]
  },
  {
   "cell_type": "markdown",
   "metadata": {},
   "source": [
    "***!Обратите внимание, что здесь по умолчанию используется 10 потоков и 10 Гб оперативной памяти. Вам необходимо использовать количество ресурсов, доступных на Вашем ПК!***\n",
    "\n",
    "***P.S. Время работы программы составляет около 30 минут и занимает много вычислительных ресурсов компьютера. Поэтому, запустите программу, дайте ответ на задание ниже и закройте процесс.***"
   ]
  },
  {
   "cell_type": "markdown",
   "metadata": {},
   "source": [
    "### Задание № 1.4"
   ]
  },
  {
   "cell_type": "markdown",
   "metadata": {},
   "source": [
    "  - Напишите смайлик, который выдает Trinity при работе"
   ]
  },
  {
   "cell_type": "markdown",
   "metadata": {},
   "source": [
    "### Ответ:"
   ]
  },
  {
   "cell_type": "raw",
   "metadata": {},
   "source": [
    ":-)"
   ]
  },
  {
   "cell_type": "markdown",
   "metadata": {},
   "source": [
    "___"
   ]
  },
  {
   "cell_type": "markdown",
   "metadata": {},
   "source": [
    "## 6. Использование программы *Phyluce* для обработки данных"
   ]
  },
  {
   "cell_type": "markdown",
   "metadata": {},
   "source": [
    "Для дальнейшей работы воспользуемся программой Phyluce, предназначенной для поиска UCE зондов в собранных Fasta файлах,  распределению данных по таксонам, выравниванию данных по каждому UCE, объединению различных UCE и удалению блоков с низким качеством. \n",
    "<br>Для установки программы используйте следующие команды:\n",
    "\n",
    "**wget https://raw.githubusercontent.com/faircloth-lab/phyluce/v1.7.1/distrib/phyluce-1.7.1-py36-Linux-conda.yml\n",
    "<br>conda env create -n phyluce-1.7.1 --file phyluce-1.7.1-py36-Linux-conda.yml</br>\n",
    "<br>conda activate phyluce-1.7.1**</br>\n"
   ]
  },
  {
   "cell_type": "markdown",
   "metadata": {},
   "source": [
    "Для дальнейшей работы необходимо использовать готовые de-novo сборки для хариусовых и лососевых рыб, которые заранее нами получены с помощью программы Trinity и находятся в директории **trinity-assemblies**.\n",
    "\n",
    "Каждый файл имеет свой уникальный код, номер баркод-адаптера, вид (T - Thymallus), место сбора и программу сборки.\n",
    "Список файлов приведен ниже:\n",
    "\n",
    "A1_069_T_tugarinae_Kievka1_Trinity.fasta\n",
    "<br>A2_073_T_burejensis_Bureya1_Trinity.fasta\n",
    "<br>A5_008_T_grubii_Amazar2_Trinity.fasta\n",
    "<br>B4_004_T_grubii_flavomaculatus_Tumnin6_Trinity.fasta\n",
    "<br>B5_018_T_nikolskyi_Katun_Trinity.fasta\n",
    "<br>C4_030_T_mertensii_Anadyr1_Trinity.fasta\n",
    "<br>C5_075_T_nigrescens_Hubsusgul2_Trinity.fasta\n",
    "<br>D1_002_T_tugarinae_Red_river1_Trinity.fasta\n",
    "<br>D2_019_T_svetovidovi_Chik_Hem_Trinity.fasta\n",
    "<br>D3_023_T_brevirostris_Hindiktig_Hol1_Trinity.fasta\n",
    "<br>F3_031_T_pallasii_Rauchua_Trinity.fasta\n",
    "<br>F4_005_T_grubii_flavomaculatus_Samarga_Trinity.fasta.fasta\n",
    "<br>G2_070_T_flavomaculatus_Kiran_Trinity.fasta\n",
    "<br>G3_032_T_pallasii_Elgygytgyn_Trinity.fasta\n",
    "<br>H1_009_T_thymallus_Volga_Trinity.fasta\n",
    "<br>I1_027_T_arcticus_Sosva_Trinity.fasta\n",
    "<br>I2_028_T_arcticus_Sosva_Trinity.fasta\n",
    "<br>I3_042_Brachymystax_tumensis_Gur_Trinity.fasta\n",
    "<br>J2_095_Oncorhynchus_keta_Trinity.fasta"
   ]
  },
  {
   "cell_type": "markdown",
   "metadata": {},
   "source": [
    "***"
   ]
  },
  {
   "cell_type": "markdown",
   "metadata": {},
   "source": [
    "### 6.1. Сортировка полученных контигов по наличию в них вставки специфичной к UCE зондам"
   ]
  },
  {
   "cell_type": "markdown",
   "metadata": {},
   "source": [
    "Для начала работы необходимо отобрать те последовательности, которые содержат UCE вставку. В качестве основы для поиска служит файл **fish-uce-500-probes.fas**, содержащий все варианты UCE зондов, используемых при гибридизации. Вывод результатов выполняется в папку **uce-search-results**.    \n",
    "Для выполнения данной задачи выполните команду:<br>"
   ]
  },
  {
   "cell_type": "raw",
   "metadata": {},
   "source": [
    "phyluce_assembly_match_contigs_to_probes \\\n",
    "--contigs trinity-assemblies \\\n",
    "--probes fish-uce-500-probes.fas \\\n",
    "--output uce-search-results"
   ]
  },
  {
   "cell_type": "markdown",
   "metadata": {},
   "source": [
    "***P.S. Для более полного понимания происходящего рекомендуем заходить в созданные директории и смотреть результаты работы команд:)***"
   ]
  },
  {
   "cell_type": "markdown",
   "metadata": {},
   "source": [
    "Затем, создайте директорию **taxon-sets/all**, в которую будут записаны результаты анализа: "
   ]
  },
  {
   "cell_type": "raw",
   "metadata": {},
   "source": [
    "mkdir -p taxon-sets/all"
   ]
  },
  {
   "cell_type": "markdown",
   "metadata": {},
   "source": [
    "***"
   ]
  },
  {
   "cell_type": "markdown",
   "metadata": {},
   "source": [
    "### 6.2. Создание списка всех UCE локусов, характерных для имеющихся особей"
   ]
  },
  {
   "cell_type": "markdown",
   "metadata": {},
   "source": [
    "Для выполнения данной задачи необходимо создать файл в корневой директории с названием **taxon-set.conf**, включающий названия всех особей, показанных выше, без расширения fasta. Первая строка файла должна иметь вид: [all]\n",
    "<br>Пример:\n",
    "\n",
    "[all]\n",
    "<br>A1_069_T_tugarinae_Kievka1_Trinity\n",
    "<br>A2_073_T_burejensis_Bureya1_Trinity\n",
    "<br>и.т.д.\n",
    "\n",
    "Запустите программу с использованием следующей команды:\n"
   ]
  },
  {
   "cell_type": "raw",
   "metadata": {},
   "source": [
    "phyluce_assembly_get_match_counts \\\n",
    "--locus-db uce-search-results/probe.matches.sqlite \\\n",
    "--taxon-list-config taxon-set.conf \\\n",
    "--taxon-group 'all' \\\n",
    "--incomplete-matrix \\\n",
    "--output taxon-sets/all/all-taxa-incomplete.conf"
   ]
  },
  {
   "cell_type": "markdown",
   "metadata": {},
   "source": [
    "### Задание № 1.5"
   ]
  },
  {
   "cell_type": "markdown",
   "metadata": {},
   "source": [
    "  - Сколько UCE локусов обнаружено во всей выборке особей?"
   ]
  },
  {
   "cell_type": "markdown",
   "metadata": {},
   "source": [
    "### Ответ:"
   ]
  },
  {
   "cell_type": "raw",
   "metadata": {},
   "source": [
    "458"
   ]
  },
  {
   "cell_type": "markdown",
   "metadata": {},
   "source": [
    "Перейдите в директорию **taxon-sets/all** и создайте директорию **log**."
   ]
  },
  {
   "cell_type": "markdown",
   "metadata": {},
   "source": [
    "***"
   ]
  },
  {
   "cell_type": "markdown",
   "metadata": {},
   "source": [
    "### 6.3. Получение списка UCE локусов, характерного для каждого таксона"
   ]
  },
  {
   "cell_type": "raw",
   "metadata": {},
   "source": [
    "phyluce_assembly_get_fastas_from_match_counts \\\n",
    "--contigs ../../trinity-assemblies \\\n",
    "--locus-db ../../uce-search-results/probe.matches.sqlite \\\n",
    "--match-count-output all-taxa-incomplete.conf \\\n",
    "--output all-taxa-incomplete.fasta \\\n",
    "--incomplete-matrix all-taxa-incomplete.incomplete \\\n",
    "--log-path log"
   ]
  },
  {
   "cell_type": "markdown",
   "metadata": {},
   "source": [
    "### Задание № 1.6\n",
    "Напишите количество найденных UCE локусов для особи B4_004_T_grubii_flavomaculatus_Tumnin6_Trinity."
   ]
  },
  {
   "cell_type": "markdown",
   "metadata": {},
   "source": [
    "### Ответ:"
   ]
  },
  {
   "cell_type": "markdown",
   "metadata": {},
   "source": [
    "255\n"
   ]
  },
  {
   "cell_type": "markdown",
   "metadata": {},
   "source": [
    "***"
   ]
  },
  {
   "cell_type": "markdown",
   "metadata": {},
   "source": [
    "### 6.4. Объединение таксонов, содержащих те или иные UCE локусы"
   ]
  },
  {
   "cell_type": "raw",
   "metadata": {},
   "source": [
    "phyluce_assembly_explode_get_fastas_file \\\n",
    "--input all-taxa-incomplete.fasta \\\n",
    "--output exploded-fastas \\\n",
    "--by-taxon"
   ]
  },
  {
   "cell_type": "markdown",
   "metadata": {},
   "source": [
    "***"
   ]
  },
  {
   "cell_type": "markdown",
   "metadata": {},
   "source": [
    "### 6.5. Выравнивание с помощью Mafft, подрезание концевых участков  для получения сходных по длине последовательностей для каждой особи"
   ]
  },
  {
   "cell_type": "markdown",
   "metadata": {},
   "source": [
    "**!Обратите внимание, что здесь по умолчанию используется 12 ядер. Вам необходимо использовать количество ядер, доступных на вашем ПК!*"
   ]
  },
  {
   "cell_type": "raw",
   "metadata": {},
   "source": [
    "phyluce_align_seqcap_align \\\n",
    "--input all-taxa-incomplete.fasta \\\n",
    "--output mafft-nexus-edge-trimmed \\\n",
    "--taxa 19 \\\n",
    "--aligner mafft \\\n",
    "--cores 12 \\\n",
    "--incomplete-matrix \\\n",
    "--log-path log"
   ]
  },
  {
   "cell_type": "markdown",
   "metadata": {},
   "source": [
    "___"
   ]
  },
  {
   "cell_type": "markdown",
   "metadata": {},
   "source": [
    "### 6.6. Обрезка внутренних участков, содержащих множественные инделы (выпадения или вставки нуклеотидов)"
   ]
  },
  {
   "cell_type": "raw",
   "metadata": {},
   "source": [
    "phyluce_align_seqcap_align \\\n",
    "--input all-taxa-incomplete.fasta \\\n",
    "--output mafft-nexus-internal-trimmed \\\n",
    "--taxa 19 \\\n",
    "--aligner mafft \\\n",
    "--cores 12 \\\n",
    "--incomplete-matrix \\\n",
    "--output-format fasta \\\n",
    "--no-trim \\\n",
    "--log-path log"
   ]
  },
  {
   "cell_type": "markdown",
   "metadata": {},
   "source": [
    "***"
   ]
  },
  {
   "cell_type": "markdown",
   "metadata": {},
   "source": [
    "### 6.7. Дополнительная очистка с помощью программы Gblocks, интегрированной в PHYLUCE"
   ]
  },
  {
   "cell_type": "raw",
   "metadata": {},
   "source": [
    "phyluce_align_get_gblocks_trimmed_alignments_from_untrimmed \\\n",
    "--alignments mafft-nexus-internal-trimmed \\\n",
    "--output mafft-nexus-internal-trimmed-gblocks \\\n",
    "--cores 12 \\\n",
    "--log log"
   ]
  },
  {
   "cell_type": "markdown",
   "metadata": {},
   "source": [
    "#### Вывод summary data"
   ]
  },
  {
   "cell_type": "raw",
   "metadata": {},
   "source": [
    "phyluce_align_get_align_summary_data \\\n",
    "--alignments mafft-nexus-internal-trimmed-gblocks \\\n",
    "--cores 12 \\\n",
    "--log-path log"
   ]
  },
  {
   "cell_type": "markdown",
   "metadata": {},
   "source": [
    "### Задание № 1.7\n",
    "Укажите:\n",
    "<br>1) общее количество UCE локусов в данной выборке\n",
    "<br>2) суммарную длину всех UCE локусов\n",
    "<br>3) среднее значеие длины UCE локусов\n",
    "<br>4) сколько UCE локусов одновременно имеются у 95% таксонов?"
   ]
  },
  {
   "cell_type": "markdown",
   "metadata": {},
   "source": [
    "### Ответы:\n"
   ]
  },
  {
   "cell_type": "raw",
   "metadata": {},
   "source": [
    "1)399\n",
    "2)124.723\n",
    "3)312.59\n",
    "4)7.47"
   ]
  },
  {
   "cell_type": "markdown",
   "metadata": {},
   "source": [
    "***"
   ]
  },
  {
   "cell_type": "markdown",
   "metadata": {},
   "source": [
    "### 6.8. Корректировка названия для удобной конкатенации сборок"
   ]
  },
  {
   "cell_type": "raw",
   "metadata": {},
   "source": [
    "phyluce_align_remove_locus_name_from_files \\\n",
    "--alignments mafft-nexus-internal-trimmed-gblocks \\\n",
    "--output mafft-nexus-internal-trimmed-gblocks-clean \\\n",
    "--cores 12 \\\n",
    "--log-path log"
   ]
  },
  {
   "cell_type": "markdown",
   "metadata": {},
   "source": [
    "___"
   ]
  },
  {
   "cell_type": "markdown",
   "metadata": {},
   "source": [
    "### 6.9. Фильтрация UCE локусов по их представленности в выборке"
   ]
  },
  {
   "cell_type": "raw",
   "metadata": {},
   "source": [
    "phyluce_align_get_only_loci_with_min_taxa \\\n",
    "--alignments mafft-nexus-internal-trimmed-gblocks-clean \\\n",
    "--taxa 19 \\\n",
    "--percent 0.75 \\\n",
    "--output mafft-nexus-internal-trimmed-gblocks-clean-75p \\\n",
    "--cores 12 \\\n",
    "--log-path log"
   ]
  },
  {
   "cell_type": "markdown",
   "metadata": {},
   "source": [
    "___"
   ]
  },
  {
   "cell_type": "markdown",
   "metadata": {},
   "source": [
    "### 6.10. Построение финальной матрицы для построения дерева в программе MrBayes"
   ]
  },
  {
   "cell_type": "raw",
   "metadata": {},
   "source": [
    "phyluce_align_concatenate_alignments \\\n",
    "--alignments mafft-nexus-internal-trimmed-gblocks-clean-75p \\\n",
    "--output mafft-nexus-internal-trimmed-gblocks-clean-75p-bayes \\\n",
    "--nexus \\\n",
    "--log-path log"
   ]
  },
  {
   "cell_type": "markdown",
   "metadata": {},
   "source": [
    "### Задание № 1.8\n",
    "Укажите суммарную длину сконкатенированной последовательности из созданного nexus файла."
   ]
  },
  {
   "cell_type": "markdown",
   "metadata": {},
   "source": [
    "### Ответ на задание 1.8:\n"
   ]
  },
  {
   "cell_type": "raw",
   "metadata": {},
   "source": [
    "30623"
   ]
  },
  {
   "cell_type": "markdown",
   "metadata": {},
   "source": [
    "***"
   ]
  },
  {
   "cell_type": "markdown",
   "metadata": {},
   "source": [
    "## 7. Реконструкция филогенетических связей в программе MrBayes"
   ]
  },
  {
   "cell_type": "markdown",
   "metadata": {},
   "source": [
    "Метод Байесовой оценки филогении – Оценка степени\n",
    "правдоподобия филогенетической реконструкции относительно\n",
    "априори заданной \"эволюции\" признаков на основе байесовых\n",
    "вероятностей.\n",
    "Последующее распределение вероятности деревьев невозможно\n",
    "рассчитать аналитически; вместо этого программа MrBayes\n",
    "использует Метод Моделирования, который называется Марков\n",
    "цепи Монте-Карло (или\n",
    "mcmc) для оценки степени правдоподобия филогенетической\n",
    "реконструкции."
   ]
  },
  {
   "cell_type": "markdown",
   "metadata": {},
   "source": [
    "Для дальнейшей работы необходимо найти файл **mafft-nexus-internal-trimmed-gblocks-clean-75p-bayes.nexus**, который находится в директории \n",
    "<br>**/Module3_practical1/taxon-sets/all/mafft-nexus-internal-trimmed-gblocks-clean-75p-bayes**<br>\n",
    "Перепишите файл в корневой каталог."
   ]
  },
  {
   "cell_type": "markdown",
   "metadata": {},
   "source": [
    "Установите программу **MrBayes v.3.2.6** \n",
    "\n",
    "**sudo apt update**</br>\n",
    "<br>**sudo apt install mrbayes**</br>"
   ]
  },
  {
   "cell_type": "markdown",
   "metadata": {},
   "source": [
    "Запустите программу командой **mb**\n",
    "\n",
    "Для загрузки нужного файла напишите в программе mrbayes команду **execute**, после чего напишите название файла (используйте Tab для быстрого заполнения)\n",
    "\n",
    "Укажите число генераций и удаление первых генераций командой\n",
    "\n",
    "**mcmcp ngen=1000000 burnin=250000**\n",
    "Запустите анализ командой **mcmc**\n",
    "\n",
    "*Пейте чай, кушайте печеньки. Анализ займет около 30 минут :)*\n",
    "\n",
    "После выполнения 1000000 генераций не солгашайтесь на дальнейшую генерацию цепей (**no**)\n",
    "\n",
    "Далее, посчитайте статистику командой **sump** и постройте финальное дерево командой **sumt** и выйдете из программы **quit**"
   ]
  },
  {
   "cell_type": "markdown",
   "metadata": {},
   "source": [
    "## 8. Отрисовка дерева в программе Figtree"
   ]
  },
  {
   "cell_type": "code",
   "execution_count": null,
   "metadata": {},
   "outputs": [],
   "source": []
  },
  {
   "cell_type": "markdown",
   "metadata": {},
   "source": [
    "Для отрисовки полученного дерева установите программу Figtree v.1.4.4:<br>\n",
    "<strong>sudo apt update </strong><br>\n",
    "<strong>sudo apt install figtree</strong>"
   ]
  },
  {
   "cell_type": "markdown",
   "metadata": {},
   "source": [
    "Запустите программу командой <strong>figtree</strong>"
   ]
  },
  {
   "cell_type": "markdown",
   "metadata": {},
   "source": [
    "Откройте файл с названием:<br>\n",
    "<strong>mafft-nexus-internal-trimmed-gblocks-clean-75p-bayes.nexus.con.tre</strong>"
   ]
  },
  {
   "cell_type": "markdown",
   "metadata": {},
   "source": [
    "Приведите дерево в более читаемый вид путем внесения изменений по следующим параметрам:<br>\n",
    "<strong>Trees - Root tree - Midpoint</strong><br>\n",
    "<strong>Order nodes - increasing</strong><br>\n",
    "<strong>Tip Labels - FontSize</strong> (изменить шрифт по желанию)<br>\n",
    "<strong>Node Labels - Display - labels</strong> (измените поддержки узлов по желанию)<br>\n",
    "\n",
    "Для вывода внешней группы в качестве корневой необходимо найти ее на дереве и нажать <strong>Reroot.</strong>"
   ]
  },
  {
   "cell_type": "markdown",
   "metadata": {},
   "source": [
    "Сохраните полученное дерево в формате jpeg (**Export - JPEG**)."
   ]
  },
  {
   "cell_type": "markdown",
   "metadata": {},
   "source": [
    "Для того чтобы вставить полученное дерево, вставьте имя файла в код ниже и переведите в формат Markdown."
   ]
  },
  {
   "cell_type": "markdown",
   "metadata": {},
   "source": [
    "<img src=\"mafft-nexus-internal-trimmed-gblocks-clean-75p-bayes.nexus.con.tre.jpg\" width =\"1000\" height=\"1000\"/>"
   ]
  },
  {
   "cell_type": "markdown",
   "metadata": {},
   "source": [
    "Для анализа полученного дерева, необходимо разобратся с некоторыми терминами филогенетического дерева\n",
    "Дерево состоит из **узлов** (nodes), связаных между собой **ветвями** (Branches). \n",
    "<br>**Терминальные узлы** (Terminal nodes) (также именуемые OTU, оперативной таксономической\n",
    "единицей, или терминальным таксоном), представляют собой последовательности (sequences)\n",
    "генов или организмов, по которым мы располагаем данными. Они могут быть вымершими\n",
    "или живущими в настоящее время.\n",
    "<br>**Внутренние узлы** (Internal nodes) представляют собой гипотетических предков\n",
    "<br>**Корень** (root) является родоначальником всех последовательностей,\n",
    "составляющих дерево.\n",
    "<br>**Клада** (clade) - Комплекс видов, которые включают все таксоны происшедшие от одного общего\n",
    "предка."
   ]
  },
  {
   "cell_type": "markdown",
   "metadata": {},
   "source": [
    "<img src=Images/tree.jpeg width =\"500\" height=\"500\" style=\"float:left\"/>"
   ]
  },
  {
   "cell_type": "markdown",
   "metadata": {},
   "source": [
    "**Монофилия** — происхождение таксона от одного общего предка\n",
    "<br>**Полифилия** — происхождение таксона от разных\n",
    "предков \n",
    "<br>**Парафилия** — Парафилетическая группа включает ближайшего\n",
    "общего предка, но в отличие от монофилетической, не всех\n",
    "потомков"
   ]
  },
  {
   "cell_type": "markdown",
   "metadata": {},
   "source": [
    "<img src=Images/phyly.png width =\"600\" height=\"600\" style=\"float:left\"/>\n"
   ]
  },
  {
   "cell_type": "markdown",
   "metadata": {},
   "source": [
    "### Задание № 1.9\n",
    "Опишите полученное вами дерево с использованием терминов филогенетических деревьев"
   ]
  },
  {
   "cell_type": "markdown",
   "metadata": {},
   "source": [
    "Для удобства ниже приведены русские названия используемых в работе видов:\n",
    "<br>Thymallus arcticus — западносибирский хариус\n",
    "<br>Thymallus brevirostris — монгольский хариус\n",
    "<br>Thymallus burejensis — буреинский хариус\n",
    "<br>Thymallus flavomaculatus — желтопятнистый хариус\n",
    "<br>Thymallus grubii — верхнеамурский хариус\n",
    "<br>Thymallus mertensii — камчатский хариус\n",
    "<br>Thymallus nigrescens — косогольский хариус\n",
    "<br>Thymallus nikolskyi — верхнеобский хариус\n",
    "<br>Thymallus pallasii — восточносибирский хариус\n",
    "<br>Thymallus svetovidovi — верхнеенисейский хариус\n",
    "<br>Thymallus svetovidovi — верхненисейский хариус\n",
    "<br>Thymallus thymallus — европейский хариус\n",
    "<br>Thymallus tugarinae — нижнеамурский хариус\n",
    "<br>Brachymystax tumensis — тупорылый ленок\n",
    "<br>Oncorhynchus keta — кета"
   ]
  },
  {
   "cell_type": "markdown",
   "metadata": {},
   "source": [
    "### Ответ на задание 1.9:"
   ]
  },
  {
   "cell_type": "markdown",
   "metadata": {},
   "source": [
    "На филогенетическом дереве видно четкое разделение на  две клады. В одной лежат тупорылый ленок и кета, во вторую попадают хариусы. Хариусы монофиличны. Сами хариусы разбиваются на клады, связанные с географическим происхождением."
   ]
  },
  {
   "cell_type": "code",
   "execution_count": null,
   "metadata": {},
   "outputs": [],
   "source": []
  }
 ],
 "metadata": {
  "kernelspec": {
   "display_name": "Python 3",
   "language": "python",
   "name": "python3"
  },
  "language_info": {
   "codemirror_mode": {
    "name": "ipython",
    "version": 3
   },
   "file_extension": ".py",
   "mimetype": "text/x-python",
   "name": "python",
   "nbconvert_exporter": "python",
   "pygments_lexer": "ipython3",
   "version": "3.7.3"
  }
 },
 "nbformat": 4,
 "nbformat_minor": 4
}
